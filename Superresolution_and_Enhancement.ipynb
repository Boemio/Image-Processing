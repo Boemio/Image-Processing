{
  "nbformat": 4,
  "nbformat_minor": 0,
  "metadata": {
    "colab": {
      "provenance": [],
      "collapsed_sections": [
        "uEY_Nc48ipXm",
        "kwdPQMedjAoH",
        "pUyaWkQ-nc3F",
        "uoupvE3IzNbC",
        "mEfDLGgT03j6",
        "HJLM17WD0_lS",
        "yjGOnZ3msOgc",
        "ZZ0QvHIAcQym"
      ]
    },
    "kernelspec": {
      "name": "python3",
      "display_name": "Python 3"
    },
    "language_info": {
      "name": "python"
    }
  },
  "cells": [
    {
      "cell_type": "markdown",
      "source": [
        "# **Superresolution and Enhancement**\n",
        "\n",
        "Vinícius de Moraes - 13749910\n",
        "\n",
        "Universidade de São Paulo, 2024, first semester\n",
        "\n",
        "Asssignment 01 - SCC0251"
      ],
      "metadata": {
        "id": "I3Vd9R9ciITa"
      }
    },
    {
      "cell_type": "markdown",
      "source": [
        "## **Importing Libraries**\n",
        "\n",
        "* **Imageio:** load images on the disk\n",
        "* **Numpy:** manipulate matrices"
      ],
      "metadata": {
        "id": "uEY_Nc48ipXm"
      }
    },
    {
      "cell_type": "code",
      "execution_count": null,
      "metadata": {
        "id": "eKv40c0bJ64g"
      },
      "outputs": [],
      "source": [
        "import imageio.v3 as imageio\n",
        "import numpy as np"
      ]
    },
    {
      "cell_type": "markdown",
      "source": [
        "## **1. Introduction**"
      ],
      "metadata": {
        "id": "kwdPQMedjAoH"
      }
    },
    {
      "cell_type": "markdown",
      "source": [
        "### **1.1 Goal**\n",
        "\n",
        "To have the students implementing their first pixel and histogram-based enhancement methods as well as present the concept of superresolution for the first time."
      ],
      "metadata": {
        "id": "PXF0h0YKjXCe"
      }
    },
    {
      "cell_type": "markdown",
      "source": [
        "### **1.2 Task**\n",
        "\n",
        "In this assignment you have to implement 3 distinct image enhancement techniques, as well as a superresolution method based on multiple views of the same image.\n",
        "\n",
        "1.   Find and load all low resolution images $l_i$ ∈ $L$ that match the basename imglow (i.e. filenames that start with imglow)\n",
        "2.   Apply the selected enhancement method $F$ to all low resolution images, using parameter γ when appropriate\n",
        "3.   Combine the low resolution images into a high resolution version $\\hat{H}$\n",
        "4.   Compare $\\hat{H}$ against reference image $H$ using Root Mean Squared Error (RMSE)"
      ],
      "metadata": {
        "id": "a92n0BD8j4ow"
      }
    },
    {
      "cell_type": "markdown",
      "source": [
        "### **1.3 Input Parameters**\n",
        "\n",
        "The following parameters will be input to your program in the following order:\n",
        "\n",
        "1.   Basename **imglow** for low resolution images $l_i$ ∈ $L$. The basename references the start of the filenames for 4 low resolution images $l_1$, $l_2$, $l_3$, $l_4$\n",
        "2.   Filename **imghigh** for the high resolution image $H$\n",
        "3.   Enhancement method identifier $F$ (0, 1, 2 or 3)\n",
        "4.   Enhancement method parameter γ for $F$ = 3"
      ],
      "metadata": {
        "id": "pUyaWkQ-nc3F"
      }
    },
    {
      "cell_type": "code",
      "source": [
        "name_low_res = input().rstrip()\n",
        "list_low_res = [name_low_res+str(i)+'.png' for i in range (0,4)]"
      ],
      "metadata": {
        "colab": {
          "base_uri": "https://localhost:8080/"
        },
        "id": "KEY8NcRWoj0D",
        "outputId": "5cd6cdde-d106-4746-d3b6-29abbedf40b7"
      },
      "execution_count": null,
      "outputs": [
        {
          "name": "stdout",
          "output_type": "stream",
          "text": [
            "07_low\n"
          ]
        }
      ]
    },
    {
      "cell_type": "code",
      "source": [
        "imglow = []\n",
        "\n",
        "for i in range(0,4):\n",
        "  imglow.append(imageio.imread(list_low_res[i]))"
      ],
      "metadata": {
        "id": "QeD6wdqfxZEc"
      },
      "execution_count": null,
      "outputs": []
    },
    {
      "cell_type": "code",
      "source": [
        "name_high_res = input().rstrip()"
      ],
      "metadata": {
        "colab": {
          "base_uri": "https://localhost:8080/"
        },
        "id": "SFLquefKukGn",
        "outputId": "ec73e19a-f926-44f4-da61-e7a172134ac1"
      },
      "execution_count": null,
      "outputs": [
        {
          "name": "stdout",
          "output_type": "stream",
          "text": [
            "07_high.png\n"
          ]
        }
      ]
    },
    {
      "cell_type": "code",
      "source": [
        "imghigh = imageio.imread(name_high_res)"
      ],
      "metadata": {
        "id": "VjIezSG0yWKN"
      },
      "execution_count": null,
      "outputs": []
    },
    {
      "cell_type": "code",
      "source": [
        "f = input().rstrip()"
      ],
      "metadata": {
        "colab": {
          "base_uri": "https://localhost:8080/"
        },
        "id": "_8Y5HYBquzkC",
        "outputId": "7dde8949-c5c9-4b83-f03b-e99dcf92978f"
      },
      "execution_count": null,
      "outputs": [
        {
          "name": "stdout",
          "output_type": "stream",
          "text": [
            "3\n"
          ]
        }
      ]
    },
    {
      "cell_type": "code",
      "source": [
        "gama = input().rstrip()"
      ],
      "metadata": {
        "colab": {
          "base_uri": "https://localhost:8080/"
        },
        "id": "P1YhUYw5u_Xn",
        "outputId": "55d7c3cf-3f9d-49ef-cf38-884217d4cc0d"
      },
      "execution_count": null,
      "outputs": [
        {
          "name": "stdout",
          "output_type": "stream",
          "text": [
            "2.0\n"
          ]
        }
      ]
    },
    {
      "cell_type": "markdown",
      "source": [
        "## **2. Image Enhancement**\n",
        "\n",
        "There are three options for Image Enhancement, with Option 0 indicating that no enhancement is to be done:\n",
        "\n",
        "**Option 0 - No Enhancement :** Do not apply any enhancement technique to the image and instead skip to the superresolution step.\n",
        "\n",
        "**Options 1 and 2** are histogram-based methods while Option 3 uses pixel-based Gamma correction."
      ],
      "metadata": {
        "id": "uoupvE3IzNbC"
      }
    },
    {
      "cell_type": "markdown",
      "source": [
        "### **2.1 Histogram-based Enhancement**"
      ],
      "metadata": {
        "id": "mEfDLGgT03j6"
      }
    },
    {
      "cell_type": "code",
      "source": [
        "def histogram(img, no_levels):\n",
        "  N, M = img.shape\n",
        "  hist = np.zeros(no_levels).astype(int)\n",
        "\n",
        "  for i in range(no_levels):\n",
        "    nopixel_value_i = np.sum(img == i)\n",
        "    hist[i] = nopixel_value_i\n",
        "  return hist"
      ],
      "metadata": {
        "id": "yeGJRLtWeVbt"
      },
      "execution_count": null,
      "outputs": []
    },
    {
      "cell_type": "markdown",
      "source": [
        "**Option 1 - Single-image Cumulative Histogram:** Compute the Cumulative Histogram $hc(l_i)$ for each image $l_i$ ∈ $L$ and use it as a transform function to equalize the histogram of each image."
      ],
      "metadata": {
        "id": "7UGr7eoy1K2y"
      }
    },
    {
      "cell_type": "code",
      "source": [
        "def single_histogram(img):\n",
        "  no_levels = 256 # 256 is the intesity level of a gray scale image\n",
        "  hist = histogram(img, no_levels) # histogram\n",
        "  histC = np.zeros(no_levels).astype(int) # cumulative histogram\n",
        "\n",
        "  histC[0] = hist[0]\n",
        "  for i in range(1, no_levels):\n",
        "    histC[i] = hist[i] + histC[i-1]\n",
        "\n",
        "  hist_transf = np.zeros(no_levels).astype(np.uint8)\n",
        "  N,M = img.shape\n",
        "  img_eq = np.zeros([N,M]).astype(np.uint8)\n",
        "\n",
        "  for z in range(no_levels):\n",
        "    s = ((no_levels-1)/float(M*N))*histC[z]\n",
        "    hist_transf[z] = s\n",
        "    img_eq[np.where(img==z)] = s\n",
        "\n",
        "  return img_eq"
      ],
      "metadata": {
        "id": "E4D1U9GozV-V"
      },
      "execution_count": null,
      "outputs": []
    },
    {
      "cell_type": "markdown",
      "source": [
        "**Option 2 - Joint Cumulative Histogram:** Compute a single Cumulative Histogram $hc(L)$ over all images in $L$ and use it as a transform function to equalize each image"
      ],
      "metadata": {
        "id": "kSFpuhxU1mCz"
      }
    },
    {
      "cell_type": "code",
      "source": [
        "def joint_histogram(imglow):\n",
        "  no_levels = 256\n",
        "  N, M = imglow[0].shape\n",
        "  hist = np.zeros(no_levels).astype(int)\n",
        "  histC = np.zeros(no_levels).astype(int)\n",
        "\n",
        "  for j in range(0,4):\n",
        "    for i in range(no_levels):\n",
        "      nopixel_value_i = np.sum(imglow[j] == i)\n",
        "      hist[i] = nopixel_value_i\n",
        "\n",
        "  histC[0] = hist[0]\n",
        "  for i in range(1, no_levels):\n",
        "    histC[i] = hist[i] + histC[i-1]\n",
        "\n",
        "  hist_transf = np.zeros(no_levels).astype(np.uint8)\n",
        "  img_eq = []\n",
        "  img_eq.append(np.zeros([N,M]).astype(np.uint8))\n",
        "  img_eq.append(np.zeros([N,M]).astype(np.uint8))\n",
        "  img_eq.append(np.zeros([N,M]).astype(np.uint8))\n",
        "  img_eq.append(np.zeros([N,M]).astype(np.uint8))\n",
        "\n",
        "  for i in range(0,4):\n",
        "    for z in range(no_levels):\n",
        "      s = ((no_levels-1)/float(M*N))*histC[z]\n",
        "      hist_transf[z] = s\n",
        "      img_eq[i][np.where(imglow[i]==z)] = s\n",
        "\n",
        "  return img_eq"
      ],
      "metadata": {
        "id": "vLtS1HoN1maA"
      },
      "execution_count": null,
      "outputs": []
    },
    {
      "cell_type": "markdown",
      "source": [
        "\n",
        "### **2.2 Gamma Correction**"
      ],
      "metadata": {
        "id": "HJLM17WD0_lS"
      }
    },
    {
      "cell_type": "markdown",
      "source": [
        "**Option 3 - Gamma Correction:** Implement the pixel-wise enhancement function called Gamma Correction, using the following:\n",
        "\n",
        "$\\hat{L_i}(x,y) =  \\lfloor 255·((L_i(x,y)/255.0)^{1/γ}) \\rfloor ,$\n",
        "\n",
        "where $\\hat{L_i}$ is the resulting image and γ is a parameter input by the user."
      ],
      "metadata": {
        "id": "55eiQn9STI34"
      }
    },
    {
      "cell_type": "code",
      "source": [
        "def gamma_correction(li, gama):\n",
        "  L_hat = li/255\n",
        "  L_hat = L_hat ** (1/float(gama))\n",
        "  L_hat = L_hat*255\n",
        "\n",
        "  return L_hat"
      ],
      "metadata": {
        "id": "y_jTkbZYWsgF"
      },
      "execution_count": null,
      "outputs": []
    },
    {
      "cell_type": "markdown",
      "source": [
        "## **3. Superresolution**\n",
        "\n",
        "Let’s assume that each of the low resolution images $L$ is a different “view” of the exact same scene. We can use those images (post enhancement) to compose a higher resolution version $\\hat{H}$ (to simplify our task, this higher resolution will always be double the original). We propose a very simple composition method, as in the example below:\n",
        "\n",
        "$l_1 = \\begin{bmatrix} 100 & 101\\\\ 110 & 111\\end{bmatrix},$ $l_2 = \\begin{bmatrix} 200 & 201\\\\ 210 & 211\\end{bmatrix},$ $l_3 = \\begin{bmatrix} 300 & 301\\\\ 310 & 311\\end{bmatrix},$ $l_4 = \\begin{bmatrix} 400 & 401\\\\ 410 & 411\\end{bmatrix}$\n",
        "$$\n",
        "$$\n",
        "$$\n",
        "$$\n",
        "$\\hat{H} = \\begin{bmatrix} 100 & 300 & 101 & 301\\\\ 200 & 400 & 201 & 401\\\\ 110 & 310 & 111 & 311\\\\ 210 & 410 & 211 & 411\\end{bmatrix}$"
      ],
      "metadata": {
        "id": "yjGOnZ3msOgc"
      }
    },
    {
      "cell_type": "code",
      "source": [
        "def superresolution(l1, l2, l3, l4):\n",
        "    N, M = l1.shape\n",
        "    H_hat = np.zeros((N*2, M*2))\n",
        "\n",
        "    H_hat[::2, ::2] = l1\n",
        "    H_hat[::2, 1::2] = l3\n",
        "    H_hat[1::2, ::2] = l2\n",
        "    H_hat[1::2, 1::2] = l4\n",
        "\n",
        "    return H_hat"
      ],
      "metadata": {
        "id": "C489M_T2uqrz"
      },
      "execution_count": null,
      "outputs": []
    },
    {
      "cell_type": "markdown",
      "source": [
        "## **4.Comparing against reference**\n",
        "\n",
        "The program will compare the enhanced image $\\hat{H}$ against the reference image $H$. This comparison must use the root mean squared error (RMSE). We will print this error in the screen, rounding to 4 decimal places.\n",
        "\n",
        "$L_{RMSE}(H,\\hat{H})=\\sqrt{\\dfrac{\\sum{}_i\\sum{}_j((H(i,j)-\\hat{H}(i,j))^2}{N·M}}  $"
      ],
      "metadata": {
        "id": "PgEZHrHdVaYk"
      }
    },
    {
      "cell_type": "code",
      "source": [
        "def rmse(H, H_hat):\n",
        "  rmse = 0\n",
        "\n",
        "  squared_dif = (H - H_hat) ** 2\n",
        "  mse = np.mean(squared_dif)\n",
        "  rmse = np.sqrt(mse)\n",
        "\n",
        "  print(round(rmse,4))"
      ],
      "metadata": {
        "id": "S81HxWcvW_GN"
      },
      "execution_count": null,
      "outputs": []
    },
    {
      "cell_type": "markdown",
      "source": [
        "## **Output**"
      ],
      "metadata": {
        "id": "ZZ0QvHIAcQym"
      }
    },
    {
      "cell_type": "code",
      "source": [
        "match int(f):\n",
        "  case 0: # No enhancement\n",
        "    h_hat = superresolution(imglow[0], imglow[1], imglow[2], imglow[3])\n",
        "    rmse(imghigh, h_hat)\n",
        "  case 1: # Single image cumulative histogram\n",
        "    img0_eq = single_histogram(imglow[0])\n",
        "    img1_eq = single_histogram(imglow[1])\n",
        "    img2_eq = single_histogram(imglow[2])\n",
        "    img3_eq = single_histogram(imglow[3])\n",
        "    h_hat = superresolution(img0_eq, img1_eq, img2_eq, img3_eq)\n",
        "    rmse(imghigh, h_hat)\n",
        "  case 2: # Joint image cumulative histogram\n",
        "    img_eq = joint_histogram(imglow)\n",
        "    h_hat = superresolution(img_eq[0], img_eq[1], img_eq[2], img_eq[3])\n",
        "    rmse(imghigh, h_hat)\n",
        "  case 3: # Gamma correction\n",
        "    img0_eq = gamma_correction(imglow[0],gama)\n",
        "    img1_eq = gamma_correction(imglow[1],gama)\n",
        "    img2_eq = gamma_correction(imglow[2],gama)\n",
        "    img3_eq = gamma_correction(imglow[3],gama)\n",
        "    h_hat = superresolution(img0_eq, img1_eq, img2_eq, img3_eq)\n",
        "    rmse(imghigh, h_hat)\n",
        "  case _:\n",
        "    print(\"Invalid Method!\")"
      ],
      "metadata": {
        "colab": {
          "base_uri": "https://localhost:8080/"
        },
        "id": "pTmpyT0PcNMk",
        "outputId": "52479abf-7026-4186-e5f6-dd0d9039b5d4"
      },
      "execution_count": null,
      "outputs": [
        {
          "output_type": "stream",
          "name": "stdout",
          "text": [
            "6.89123424366921\n"
          ]
        }
      ]
    }
  ]
}